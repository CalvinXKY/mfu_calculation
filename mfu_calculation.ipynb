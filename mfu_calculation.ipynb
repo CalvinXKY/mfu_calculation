{
  "nbformat": 4,
  "nbformat_minor": 0,
  "metadata": {
    "colab": {
      "provenance": [],
      "authorship_tag": "ABX9TyNHuD0kBvVXss5Lf2NbOv0f",
      "include_colab_link": true
    },
    "kernelspec": {
      "name": "python3",
      "display_name": "Python 3"
    },
    "language_info": {
      "name": "python"
    }
  },
  "cells": [
    {
      "cell_type": "markdown",
      "metadata": {
        "id": "view-in-github",
        "colab_type": "text"
      },
      "source": [
        "<a href=\"https://colab.research.google.com/github/CalvinXKY/mfu_calculation/blob/main/mfu_calculation.ipynb\" target=\"_parent\"><img src=\"https://colab.research.google.com/assets/colab-badge.svg\" alt=\"Open In Colab\"/></a>"
      ]
    },
    {
      "cell_type": "code",
      "execution_count": null,
      "metadata": {
        "id": "IWmnkH0SRxG4"
      },
      "outputs": [],
      "source": [
        "\"\"\"\n",
        "Create a mfu calculation for LLM.\n",
        "\"\"\""
      ]
    },
    {
      "cell_type": "code",
      "source": [
        "print(\"test update\")"
      ],
      "metadata": {
        "id": "b32Q6Vg06uqG",
        "colab": {
          "base_uri": "https://localhost:8080/"
        },
        "outputId": "33dbecdc-177c-4cf1-d8a4-be4648e11bc8"
      },
      "execution_count": 1,
      "outputs": [
        {
          "output_type": "stream",
          "name": "stdout",
          "text": [
            "test update\n"
          ]
        }
      ]
    }
  ]
}